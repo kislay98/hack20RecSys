{
 "cells": [
  {
   "cell_type": "code",
   "execution_count": 14,
   "metadata": {},
   "outputs": [],
   "source": [
    "#taken help from https://github.com/lavanne1/CS_410_Final_Project/blob/master/final_project_main.py\n",
    "import os\n",
    "import numpy as np\n",
    "import pandas as pd\n",
    "import warnings\n",
    "warnings.filterwarnings(\"ignore\")"
   ]
  },
  {
   "cell_type": "code",
   "execution_count": 15,
   "metadata": {},
   "outputs": [],
   "source": [
    "def read():\n",
    "    ingredient = []\n",
    "    file = open(\"ingredients.txt\", \"r\",errors='ignore')\n",
    "    #Enumerate() method adds a counter to an iterable and returns it in a form of enumerate object.\n",
    "    #strip removes \"\\n\"\n",
    "    for index, line in enumerate(file): \n",
    "            ingredient.append(line.strip(\"\\n\"))\n",
    "\n",
    "    instruction = []\n",
    "    file = open(\"instruction.txt\", \"r\",errors='ignore') \n",
    "    for index, line in enumerate(file): \n",
    "            instruction.append(line.strip(\"\\n\"))\n",
    "\n",
    "\n",
    "    title = []\n",
    "    file = open(\"title.txt\", \"r\",errors='ignore') \n",
    "    for index, line in enumerate(file): \n",
    "            title.append(line.strip(\"\\n\"))\n",
    "\n",
    "\n",
    "    url = []\n",
    "    file = open(\"url.txt\", \"r\") \n",
    "    for index, line in enumerate(file): \n",
    "            url.append(line.strip(\"\\n\"))\n",
    "\n",
    "    #creating dictinary and making dataframe out of it \n",
    "    data = {\"url\": url,\n",
    "            \"title\": title,\n",
    "            \"ingredient\": ingredient,\n",
    "            \"instruction\": instruction}\n",
    "    #converting dictoray to dataframe\n",
    "    df = pd.DataFrame.from_dict(data)\n",
    "    #remove NULL values\n",
    "    df.drop(df[df['url']=='NULL'].index, inplace = True) \n",
    "    df.drop(df[df['title']=='NULL'].index, inplace = True) \n",
    "    df.drop(df[df['ingredient']=='NULL'].index, inplace = True) \n",
    "    df.drop(df[df['instruction']=='NULL'].index, inplace = True) \n",
    "    #making url as index and storing initial index numbers in index column\n",
    "    df[\"index\"] = df.index\n",
    "    df= df.set_index(\"url\")\n",
    "    df['good']='NULL'\n",
    "    df.to_csv(\"data.csv\")\n",
    "    return df\n"
   ]
  },
  {
   "cell_type": "code",
   "execution_count": 16,
   "metadata": {},
   "outputs": [],
   "source": [
    "def pref(df):\n",
    "    \n",
    "    #first check if prefernce.txt exist, if doesnt then make prefernce file with NULL values\n",
    "    #os.path.isfile() method in Python is used to check whether the specified path is an existing regular file or not.\n",
    "    #os.getcwd() method tells us the location of current working directory (CWD).\n",
    "    #shape[0] tells number of rows in df\n",
    "    if not os.path.isfile(os.getcwd().replace(\"\\\\\",\"/\") + \"/preference.txt\"):\n",
    "        with open(\"preference.txt\", \"w\") as output:\n",
    "            for row in range(df.shape[0]):\n",
    "                output.write(\"NULL\"+\"\\n\")\n",
    "                \n",
    "    preference = []\n",
    "    file = open(\"preference.txt\", \"r\") \n",
    "    for index, line in enumerate(file): \n",
    "            preference.append(line.strip(\"\\n\"))\n",
    "            \n",
    "    return preference"
   ]
  },
  {
   "cell_type": "code",
   "execution_count": 17,
   "metadata": {},
   "outputs": [],
   "source": [
    "def menu():\n",
    "    print(\"Choose 1 to update prefernces\\n\")\n",
    "    print(\"Choose 2 to evaluate a recipe\\n\")\n",
    "    print(\"Choose 3 to get recipe recommendation\\n\")\n",
    "    print(\"Choose 0 to quit\\n\\n\")\n",
    "    choice = input(\"Choice : \") \n",
    "    if choice in ['1','2', '3', '0']:\n",
    "        return choice\n",
    "    else:\n",
    "        print(choice +\"?\")\n",
    "        print(\"Sorry wrong input\")\n",
    "        return menu()"
   ]
  },
  {
   "cell_type": "code",
   "execution_count": 18,
   "metadata": {},
   "outputs": [],
   "source": [
    "def update(df):\n",
    "    print(\"\\nHi, You have chosen to add ratings for dishes\\n\")\n",
    "    \n",
    "    #get url\n",
    "    url = input(\"Please enter the url of the recipe (starting with 'https://www.'): \")\n",
    "    \n",
    "    #check if url exists in database\n",
    "    while url.lower() not in df.index:\n",
    "        print(\"Invalid option\")\n",
    "        url = input(\"Please enter the url of the recipe (starting with 'https://www.'): \")\n",
    "    \n",
    "    rating = input(\"Please enter your rating for the recipe. the ratings range from 1 to 5, 5 being the best\\n\")\n",
    "    \n",
    "    #validate rating\n",
    "    while rating not in ['1','2','3','4','5']:\n",
    "        print(\"Invalid option\")\n",
    "        rating = input(\"Please enter your rating for the recipe. the ratings range from 1 to 5, 5 being the best\\n\")    \n",
    "    #update the rating\n",
    "    df.loc[url, \"preference\"] = rating\n",
    "    for i in df.index:\n",
    "            if(df.loc[i, \"preference\"]=='3' or df.loc[i, \"preference\"]=='2' or df.loc[i, \"preference\"]=='1'):\n",
    "                df.loc[i,\"good\"]='bad'\n",
    "            elif(df.loc[i, \"preference\"]=='4' or df.loc[i, \"preference\"]=='5'):\n",
    "                df.loc[i,\"good\"]='good'\n",
    "    \n",
    "    #write the ratings again\n",
    "    with open(\"preference.txt\", \"w\") as output:\n",
    "            for value in df.preference:\n",
    "                output.write(value +\"\\n\")\n",
    "    \n",
    "    print(\"Updation complete\")\n",
    "    \n",
    "    return df"
   ]
  },
  {
   "cell_type": "code",
   "execution_count": 19,
   "metadata": {},
   "outputs": [],
   "source": [
    "def evaluate(df):\n",
    "    print(\"\\nHi, You have chosen to evaluate a recipe\\n\")\n",
    "    \n",
    "    #get url\n",
    "    url = input(\"Please enter the url of the recipe (starting with 'https://www.'): \")\n",
    "\n",
    "    #check if url exists in database\n",
    "    while url.lower() not in df.index:\n",
    "        print(\"Invalid option\")\n",
    "        url = input(\"Please enter the url of the recipe (starting with 'https://www.'): \")\n",
    "    from sklearn.feature_extraction.text import TfidfVectorizer\n",
    "    from sklearn.pipeline import Pipeline\n",
    "    from sklearn.naive_bayes import MultinomialNB\n",
    "    #X will include ingredients of the evaluated prefernces\n",
    "    data = df[df.preference != \"NULL\"]\n",
    "    if data.empty==True:\n",
    "        print(\"Sorry dont have enough information to rate a dish, kindly update prefernces.\")\n",
    "    #y will include the rating/ prefernces\n",
    "    else :\n",
    "        X_train = data['ingredient']\n",
    "        y_train = data.good \n",
    "        #In the pipeline fisrt allpy transformers and estimators\n",
    "        tools = [('tf', TfidfVectorizer()), ('nb', MultinomialNB())]\n",
    "        c = Pipeline(tools)\n",
    "        #to remove stopwords\n",
    "        c.set_params(tf__stop_words = 'english')\n",
    "        #fitting the data\n",
    "        c = c.fit(X_train, y_train)\n",
    "        X_test = [df.loc[url].ingredient]\n",
    "        predicted = c.predict(X_test)\n",
    "        prob = c.predict_proba(X_test)\n",
    "        #Print results\n",
    "        print(\"Predicted:\", predicted)\n",
    "        print(\"Classes:\", c.classes_)\n",
    "        print(\"Probability:\", prob)\n",
    "    return None"
   ]
  },
  {
   "cell_type": "code",
   "execution_count": 20,
   "metadata": {},
   "outputs": [],
   "source": [
    "def recommend(df):\n",
    "    print(\"\\nRecipe Recommedations \\n\")\n",
    "    from sklearn.feature_extraction.text import TfidfVectorizer\n",
    "    #create tfidf matrix\n",
    "    tfidf = TfidfVectorizer(stop_words = 'english').fit_transform(df.ingredient)\n",
    "    #reset index\n",
    "    df = df.reset_index()\n",
    "    #filter data\n",
    "    good_recipes_index = list(df[df.good == \"good\"].index)\n",
    "    if good_recipes_index==[]:\n",
    "        print(\"Sorry dont have enough information to rate a dish, kindly update prefernces.\")\n",
    "        return\n",
    "    #comparison index (we wont recommend a bad dish)\n",
    "    \n",
    "    comparison_index = list(df[df.good == \"NULL\"].index)\n",
    "\n",
    "    #compute coside similarity\n",
    "    from sklearn.metrics.pairwise import linear_kernel\n",
    "    mean_cosine_similarities = np.mean(linear_kernel(tfidf[comparison_index], tfidf[good_recipes_index]), axis = 1)\n",
    "\n",
    "    #find top 5 most closely related recipes\n",
    "    recom = mean_cosine_similarities.argsort()[:-6:-1]\n",
    "\n",
    "    #pull urls of top 5 best index values\n",
    "    best_title = df.iloc[recom].title\n",
    "    best_url = df.iloc[recom].url\n",
    "    t=pd.DataFrame(best_title)\n",
    "    u=pd.DataFrame(best_url)\n",
    "\n",
    "    #print results\n",
    "    for i in t.index:\n",
    "        print(\"Title:\", best_title[i])\n",
    "        print(\"URL:\", best_url[i])"
   ]
  },
  {
   "cell_type": "code",
   "execution_count": 21,
   "metadata": {},
   "outputs": [],
   "source": [
    "def main_loop():\n",
    "    #df is dataframe\n",
    "    df=read()\n",
    "    #pr is list\n",
    "    pr=pref(df)\n",
    "    #adding prefernce colum\n",
    "    df[\"preference\"] = pr\n",
    "    for i in df.index:\n",
    "            if(df.loc[i, \"preference\"]=='3' or df.loc[i, \"preference\"]=='2' or df.loc[i, \"preference\"]=='1'):\n",
    "                df.loc[i,\"good\"]='bad'\n",
    "            elif(df.loc[i, \"preference\"]=='4' or df.loc[i, \"preference\"]=='5'):\n",
    "                df.loc[i,\"good\"]='good'\n",
    "    ans = menu()\n",
    "    while True:\n",
    "        if(ans=='0'):\n",
    "            print(\"\\nThankyou for visiting\\n\")\n",
    "            break\n",
    "        elif(ans=='1'):\n",
    "            df=update(df)\n",
    "            ans = menu()\n",
    "        elif(ans=='2'):\n",
    "            evaluate(df)\n",
    "            ans = menu()\n",
    "        elif(ans=='3'):\n",
    "            recommend(df)\n",
    "            ans=menu()\n",
    "        else:\n",
    "            print(\"Invalid choice.\")  "
   ]
  },
  {
   "cell_type": "code",
   "execution_count": null,
   "metadata": {
    "scrolled": true
   },
   "outputs": [
    {
     "name": "stdout",
     "output_type": "stream",
     "text": [
      "Choose 1 to update prefernces\n",
      "\n",
      "Choose 2 to evaluate a recipe\n",
      "\n",
      "Choose 3 to get recipe recommendation\n",
      "\n",
      "Choose 0 to quit\n",
      "\n",
      "\n"
     ]
    },
    {
     "name": "stdin",
     "output_type": "stream",
     "text": [
      "Choice :  1\n"
     ]
    },
    {
     "name": "stdout",
     "output_type": "stream",
     "text": [
      "\n",
      "Hi, You have chosen to add ratings for dishes\n",
      "\n"
     ]
    },
    {
     "name": "stdin",
     "output_type": "stream",
     "text": [
      "Please enter the url of the recipe (starting with 'https://www.'):  https://www.allrecipes.com/video/6564/chicken-enchiladas-ii/\n"
     ]
    },
    {
     "name": "stdout",
     "output_type": "stream",
     "text": [
      "Invalid option\n"
     ]
    },
    {
     "name": "stdin",
     "output_type": "stream",
     "text": [
      "Please enter the url of the recipe (starting with 'https://www.'):  https://www.allrecipes.com/recipe/8694/chicken-enchiladas-ii/\n",
      "Please enter your rating for the recipe. the ratings range from 1 to 5, 5 being the best\n",
      " 4\n"
     ]
    },
    {
     "name": "stdout",
     "output_type": "stream",
     "text": [
      "Updation complete\n",
      "Choose 1 to update prefernces\n",
      "\n",
      "Choose 2 to evaluate a recipe\n",
      "\n",
      "Choose 3 to get recipe recommendation\n",
      "\n",
      "Choose 0 to quit\n",
      "\n",
      "\n"
     ]
    },
    {
     "name": "stdin",
     "output_type": "stream",
     "text": [
      "Choice :  1\n"
     ]
    },
    {
     "name": "stdout",
     "output_type": "stream",
     "text": [
      "\n",
      "Hi, You have chosen to add ratings for dishes\n",
      "\n"
     ]
    },
    {
     "name": "stdin",
     "output_type": "stream",
     "text": [
      "Please enter the url of the recipe (starting with 'https://www.'):  https://www.allrecipes.com/video/2983/rosemary-ranch-chicken-kabobs/\n"
     ]
    },
    {
     "name": "stdout",
     "output_type": "stream",
     "text": [
      "Invalid option\n"
     ]
    },
    {
     "name": "stdin",
     "output_type": "stream",
     "text": [
      "Please enter the url of the recipe (starting with 'https://www.'):  https://www.allrecipes.com/recipe/64513/rosemary-ranch-chicken-kabobs/\n",
      "Please enter your rating for the recipe. the ratings range from 1 to 5, 5 being the best\n",
      " 5\n"
     ]
    },
    {
     "name": "stdout",
     "output_type": "stream",
     "text": [
      "Updation complete\n",
      "Choose 1 to update prefernces\n",
      "\n",
      "Choose 2 to evaluate a recipe\n",
      "\n",
      "Choose 3 to get recipe recommendation\n",
      "\n",
      "Choose 0 to quit\n",
      "\n",
      "\n"
     ]
    },
    {
     "name": "stdin",
     "output_type": "stream",
     "text": [
      "Choice :  3\n"
     ]
    },
    {
     "name": "stdout",
     "output_type": "stream",
     "text": [
      "\n",
      "Recipe Recommedations \n",
      "\n",
      "Title: Savory Beef Stir-Fry\n",
      "URL: https://www.allrecipes.com/recipe/229110/savory-beef-stir-fry/\n",
      "Title: Best Spinach Dip Ever\n",
      "URL: https://www.allrecipes.com/recipe/22617/best-spinach-dip-ever/\n",
      "Title: Sloppy Joes II\n",
      "URL: https://www.allrecipes.com/recipe/24264/sloppy-joes-ii/\n",
      "Title: Baked Chicken Wings\n",
      "URL: https://www.allrecipes.com/recipe/187822/baked-chicken-wings/\n",
      "Title: Chef John's Poached Eggs\n",
      "URL: https://www.allrecipes.com/recipe/222204/chef-johns-poached-eggs/\n",
      "Choose 1 to update prefernces\n",
      "\n",
      "Choose 2 to evaluate a recipe\n",
      "\n",
      "Choose 3 to get recipe recommendation\n",
      "\n",
      "Choose 0 to quit\n",
      "\n",
      "\n"
     ]
    }
   ],
   "source": [
    "if __name__ == '__main__':\n",
    "    main_loop()"
   ]
  },
  {
   "cell_type": "code",
   "execution_count": null,
   "metadata": {},
   "outputs": [],
   "source": []
  }
 ],
 "metadata": {
  "kernelspec": {
   "display_name": "Python 3",
   "language": "python",
   "name": "python3"
  },
  "language_info": {
   "codemirror_mode": {
    "name": "ipython",
    "version": 3
   },
   "file_extension": ".py",
   "mimetype": "text/x-python",
   "name": "python",
   "nbconvert_exporter": "python",
   "pygments_lexer": "ipython3",
   "version": "3.8.5"
  }
 },
 "nbformat": 4,
 "nbformat_minor": 4
}
